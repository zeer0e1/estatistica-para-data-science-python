{
  "nbformat": 4,
  "nbformat_minor": 0,
  "metadata": {
    "colab": {
      "provenance": [],
      "authorship_tag": "ABX9TyP69h3ykDbdJB9Ne36JLlmN",
      "include_colab_link": true
    },
    "kernelspec": {
      "name": "python3",
      "display_name": "Python 3"
    },
    "language_info": {
      "name": "python"
    }
  },
  "cells": [
    {
      "cell_type": "markdown",
      "metadata": {
        "id": "view-in-github",
        "colab_type": "text"
      },
      "source": [
        "<a href=\"https://colab.research.google.com/github/zeer0e1/estatistica-para-data-science-python/blob/main/Amostragem.ipynb\" target=\"_parent\"><img src=\"https://colab.research.google.com/assets/colab-badge.svg\" alt=\"Open In Colab\"/></a>"
      ]
    },
    {
      "cell_type": "markdown",
      "source": [
        "# Amostragem estratificada"
      ],
      "metadata": {
        "id": "oqd7aFRlDyge"
      }
    },
    {
      "cell_type": "code",
      "source": [
        "import pandas as pd\n",
        "\n",
        "dataset = pd.read_csv('census.csv')"
      ],
      "metadata": {
        "id": "SRs0PxqnEfHL"
      },
      "execution_count": 1,
      "outputs": []
    },
    {
      "cell_type": "code",
      "source": [
        "from sklearn.model_selection import StratifiedShuffleSplit"
      ],
      "metadata": {
        "id": "jlcdd7bKD0zk"
      },
      "execution_count": 2,
      "outputs": []
    },
    {
      "cell_type": "code",
      "source": [
        "dataset['income'].value_counts()"
      ],
      "metadata": {
        "colab": {
          "base_uri": "https://localhost:8080/"
        },
        "id": "V9wu_Z39ErjJ",
        "outputId": "dae13b30-e005-472b-a542-4140ae0c1518"
      },
      "execution_count": 3,
      "outputs": [
        {
          "output_type": "execute_result",
          "data": {
            "text/plain": [
              " <=50K    24720\n",
              " >50K      7841\n",
              "Name: income, dtype: int64"
            ]
          },
          "metadata": {},
          "execution_count": 3
        }
      ]
    },
    {
      "cell_type": "markdown",
      "source": [
        "Executando o código acima temos a seguinte informação:\n",
        "\n",
        "*   24720 pessoas ganham menos de 50 mil\n",
        "*   7841 pessoas ganham mais de 50 mil\n",
        "\n",
        "se dividirmos a quantidade de pessoas que ganham mais de 50 mil pelo tamanho da população vamos obter a porcentagem que essas pessoas representam na população"
      ],
      "metadata": {
        "id": "0YOrcpiTFaz4"
      }
    },
    {
      "cell_type": "code",
      "source": [
        "\n",
        "7841 / len(dataset), 24720 / len(dataset)"
      ],
      "metadata": {
        "colab": {
          "base_uri": "https://localhost:8080/"
        },
        "id": "11wgFgbRE1Dp",
        "outputId": "731c8025-614c-4f62-95a4-269a42b953dd"
      },
      "execution_count": 6,
      "outputs": [
        {
          "output_type": "execute_result",
          "data": {
            "text/plain": [
              "(0.2408095574460244, 0.7591904425539756)"
            ]
          },
          "metadata": {},
          "execution_count": 6
        }
      ]
    },
    {
      "cell_type": "markdown",
      "source": [
        "Executanndo o código acima temos a informação que\n",
        "\n",
        "*   24% da população recebe um salário maior que 50 mil\n",
        "*   75% da população recebe um salário menor que 50 mil"
      ],
      "metadata": {
        "id": "q_hmS9IiF4TX"
      }
    },
    {
      "cell_type": "markdown",
      "source": [
        "Por isso temos que para retirar uma amostra temos que utilizar uma amostra estratificada pois a probabilidade de dentro amostr possuir somente pessoas que recebem menos que 50 mil é muito grando pois eles estão em maior número na base"
      ],
      "metadata": {
        "id": "ie1zfLBtHhdk"
      }
    },
    {
      "cell_type": "code",
      "source": [],
      "metadata": {
        "id": "PxnuTrZ2ICFL"
      },
      "execution_count": null,
      "outputs": []
    }
  ]
}